{
 "cells": [
  {
   "cell_type": "markdown",
   "metadata": {
    "colab_type": "text",
    "id": "GxO3jxalGdCA"
   },
   "source": [
    "# Welcome to Split 3\n",
    "\n",
    "You 've learnt so many Coding skills in Split 2 and here comes your time to see how far've you learnt.\n",
    "\n",
    "\n",
    "You also learnt a cool amount of Statisitcs Let's Start building together a **Simple Linear Regression** Model."
   ]
  },
  {
   "cell_type": "markdown",
   "metadata": {
    "colab_type": "text",
    "id": "xUpRxwRXPhPT"
   },
   "source": [
    "# FOLLOW THESE STEPS "
   ]
  },
  {
   "cell_type": "markdown",
   "metadata": {
    "colab_type": "text",
    "id": "xMowuyWPIUmV"
   },
   "source": [
    "**First** : Let me Put You on the Road.\n",
    "\n",
    "If you are using Google Colab please Execute the following Code in next Cell  , so you will give the Permission for Google Colab to Access your folders in Google Drive \n",
    "\n",
    "***DO NOT RUN IT IF YOU ARE ON JUPYTER ***"
   ]
  },
  {
   "cell_type": "code",
   "execution_count": null,
   "metadata": {
    "colab": {},
    "colab_type": "code",
    "id": "XgNXJOnPwkoG"
   },
   "outputs": [],
   "source": []
  },
  {
   "cell_type": "markdown",
   "metadata": {
    "colab_type": "text",
    "id": "PXWREjgWJGw7"
   },
   "source": [
    "**Second**  Let's Install Our Dependencies \n",
    "`xlrd` is used for  Reading Excel Files \n"
   ]
  },
  {
   "cell_type": "code",
   "execution_count": 1,
   "metadata": {
    "colab": {},
    "colab_type": "code",
    "id": "evnl_eAd3Xam"
   },
   "outputs": [
    {
     "name": "stdout",
     "output_type": "stream",
     "text": [
      "Requirement already satisfied: xlrd in c:\\users\\geek\\anaconda3\\lib\\site-packages (1.2.0)\n"
     ]
    }
   ],
   "source": [
    "!pip install xlrd"
   ]
  },
  {
   "cell_type": "markdown",
   "metadata": {
    "colab_type": "text",
    "id": "o2Bx7sKsJYcr"
   },
   "source": [
    "**Third** : Let's Now Import the Packages that we are going to use "
   ]
  },
  {
   "cell_type": "code",
   "execution_count": 2,
   "metadata": {
    "colab": {},
    "colab_type": "code",
    "id": "D3bk89gcYR8m"
   },
   "outputs": [],
   "source": [
    "import numpy as np   # For Matrices Manipulations\n",
    "import pandas as pd  # For Data frames etc \n",
    "import xlrd  # For Excel Files\n",
    "import os   # For Changing to the Correct Directory \n",
    "import math"
   ]
  },
  {
   "cell_type": "code",
   "execution_count": null,
   "metadata": {
    "colab": {},
    "colab_type": "code",
    "id": "BQq0QjKBzzjc"
   },
   "outputs": [],
   "source": []
  },
  {
   "cell_type": "code",
   "execution_count": 3,
   "metadata": {
    "colab": {},
    "colab_type": "code",
    "id": "sKlAh0EXzuav"
   },
   "outputs": [],
   "source": [
    "     # Try to fix this to  the Correct path So you can find The file"
   ]
  },
  {
   "cell_type": "markdown",
   "metadata": {
    "colab_type": "text",
    "id": "cwzEZCAtLX57"
   },
   "source": [
    "**Forth** :  Type a Code to Read  The Excel File \n",
    "hint go and use `pd.read_excel`"
   ]
  },
  {
   "cell_type": "code",
   "execution_count": 4,
   "metadata": {
    "colab": {},
    "colab_type": "code",
    "id": "WX5s6BsA1CtE"
   },
   "outputs": [
    {
     "name": "stdout",
     "output_type": "stream",
     "text": [
      "*** No CODEPAGE record, no encoding_override: will use 'ascii'\n"
     ]
    },
    {
     "data": {
      "text/plain": [
       "(63, 2)"
      ]
     },
     "execution_count": 4,
     "metadata": {},
     "output_type": "execute_result"
    }
   ],
   "source": [
    "df= pd.read_excel('Insurance.xls')\n",
    "df.shape"
   ]
  },
  {
   "cell_type": "markdown",
   "metadata": {
    "colab_type": "text",
    "id": "ndOyFGg0LVDV"
   },
   "source": [
    "So this Data is about:-\n",
    "\n",
    "Auto Insurance in Sweden\n",
    "In the following data\n",
    "\n",
    "X = number of claims\n",
    "\n",
    "Y = total payment for all the claims in thousands of Swedish Kronor\n",
    "\n",
    "for geographical zones in Sweden\n",
    "Reference: Swedish Committee on Analysis of Risk Premium in Motor Insurance\n",
    "\n"
   ]
  },
  {
   "cell_type": "markdown",
   "metadata": {
    "colab_type": "text",
    "id": "N_1kH03mMHYD"
   },
   "source": [
    "**Fifth** Type a Code  that Change the Features and Labels  from pandas frame into Numpy Arrays.\n",
    "\n",
    "*40 rows only* for **Training** and the Rest for **Testing**\n",
    "hint : use `df.iloc`"
   ]
  },
  {
   "cell_type": "code",
   "execution_count": 5,
   "metadata": {
    "colab": {},
    "colab_type": "code",
    "id": "bVXC5ZIz3u1N"
   },
   "outputs": [],
   "source": [
    "x = df.iloc[:,0].values\n",
    "y = df.iloc[:,1].values\n",
    "X_train= x[:40]\n",
    "y_train= y[:40]\n",
    "X_test= x[40:]\n",
    "y_test= y[40:]"
   ]
  },
  {
   "cell_type": "markdown",
   "metadata": {
    "colab_type": "text",
    "id": "2m8PtSPjNC3a"
   },
   "source": [
    "**Sixth** Check the Type and Size of the Arrays you created by Printing them.\n",
    "hint Go and use :  `shape` , `type` "
   ]
  },
  {
   "cell_type": "code",
   "execution_count": 6,
   "metadata": {
    "colab": {},
    "colab_type": "code",
    "id": "PzKkHDR2NYOr"
   },
   "outputs": [
    {
     "name": "stdout",
     "output_type": "stream",
     "text": [
      "The Features to be trained on : (40,)\n",
      "The Labels to be trained on : (40,)\n",
      "The Features to be tested on : (23,)\n",
      "The Labels to be tested on : (23,)\n",
      "X_train type :  <class 'numpy.ndarray'> X_test type : <class 'numpy.ndarray'> y_train type : <class 'numpy.ndarray'> y_test type : <class 'numpy.ndarray'>\n"
     ]
    }
   ],
   "source": [
    "print('The Features to be trained on :', X_train.shape )\n",
    "print('The Labels to be trained on :', y_train.shape )\n",
    "print('The Features to be tested on :', X_test.shape )\n",
    "print('The Labels to be tested on :', y_test.shape )\n",
    "print('X_train type : ', type(X_train), 'X_test type :',type(X_test) ,'y_train type :', type(y_train) , 'y_test type :', type(y_test) )"
   ]
  },
  {
   "cell_type": "markdown",
   "metadata": {
    "colab_type": "text",
    "id": "akZOUbc0OPhz"
   },
   "source": [
    "**Seventh** Let me do this for you  but watch me properly, its for Visualization."
   ]
  },
  {
   "cell_type": "code",
   "execution_count": 7,
   "metadata": {
    "colab": {},
    "colab_type": "code",
    "id": "gjfIFHMp3pYl"
   },
   "outputs": [
    {
     "data": {
      "text/plain": [
       "<function matplotlib.pyplot.show(*args, **kw)>"
      ]
     },
     "execution_count": 7,
     "metadata": {},
     "output_type": "execute_result"
    }
   ],
   "source": [
    "import matplotlib.pyplot as plt # A Great Package For Plotting and Visualization \n",
    "plt.figure(figsize=(10,8))     # The Plotting Window Size \n",
    "plt.title(' X vs Y Regression', fontsize=24 , fontstyle='italic')  # Title , Font size and Style \n",
    "plt.scatter(list(X_train) ,list(y_train) , alpha =0.5, label='Y')  # NOTE : Make Sure  x_train , y_train  IN Data Type ( Array )\n",
    "plt.show   # Showing the Result of plotting "
   ]
  },
  {
   "cell_type": "markdown",
   "metadata": {
    "colab_type": "text",
    "id": "7Tn1oPkjO_oF"
   },
   "source": [
    "Hungry for Statistics ?\n",
    "Okey Let's Go for it, But Do you even remember the Expressions?"
   ]
  },
  {
   "cell_type": "markdown",
   "metadata": {
    "colab_type": "text",
    "id": "-5GzNhIhP18j"
   },
   "source": [
    "**Eighth** ? I don't know how to type this  but i meant 8th\n",
    "Okey, Whatever Just Go and build a Function Mean Squared Error and call it `MSE()` That Takes a List of Actual Values and List of Predicted Values  then Returning the Mean Squared Error between them \n"
   ]
  },
  {
   "cell_type": "code",
   "execution_count": 8,
   "metadata": {
    "colab": {},
    "colab_type": "code",
    "id": "P9idEk1rPzHD"
   },
   "outputs": [],
   "source": [
    "def MSE (actual, predicted):\n",
    "    error = 0\n",
    "    n = len(actual)\n",
    "    for i in range(n):\n",
    "        error += (actual[i] - predicted[i])**2\n",
    "    error = math.sqrt(error)/n\n",
    "    return error"
   ]
  },
  {
   "cell_type": "markdown",
   "metadata": {
    "colab_type": "text",
    "id": "_DLHOwjeQ_3d"
   },
   "source": [
    "**Ninth** Build  Following Functions:\n",
    "\n",
    "1- `Mean()`  its input :  Values ,  its Ouput : Mean of the Values.\n",
    "2- `Variance()` its input : Values, Mean , its Output : Variance of the Values.\n",
    "\n",
    "3- `Covariance()` its input : Values of X, X_mean , y_mean ,y, its Output : Covariance of X and Y.\n",
    "\n"
   ]
  },
  {
   "cell_type": "code",
   "execution_count": 9,
   "metadata": {
    "colab": {},
    "colab_type": "code",
    "id": "fThEft4rUktb"
   },
   "outputs": [],
   "source": [
    "def Mean (x):\n",
    "    n = len(x)+0.0\n",
    "    return sum(x)/n\n",
    "def Variance(x):\n",
    "    n = len(x)\n",
    "    var = sum((x - Mean(x))**2)/n\n",
    "    return var\n",
    "def covariance(x,y):\n",
    "    n = len(x)\n",
    "    cov = sum((x-Mean(x))*(y - Mean(y)))/n\n",
    "    return cov"
   ]
  },
  {
   "cell_type": "markdown",
   "metadata": {
    "colab_type": "text",
    "id": "0iBwSUvCUsva"
   },
   "source": [
    "**Tenth** : watch out for a Sensitive Point you now need to build a Function that will use  the Previous Functions to return the Co-efficents of the Best Fit Line  which  is Beta Zero and Beta One "
   ]
  },
  {
   "cell_type": "code",
   "execution_count": 10,
   "metadata": {
    "colab": {},
    "colab_type": "code",
    "id": "wT6RKZwgyEHs"
   },
   "outputs": [],
   "source": [
    "def coefficents(x,y):\n",
    "    b0 = covariance(x,y)/Variance(x)\n",
    "    b1 = Mean(y) - b0*Mean(x)\n",
    "    return b0 , b1"
   ]
  },
  {
   "cell_type": "markdown",
   "metadata": {
    "colab_type": "text",
    "id": "UW1JGasUyPiC"
   },
   "source": [
    "**Eleventh**: Build a function  that will take the Input Training Data and Testing the Data , Then call the Co efficient Function with the Training Data to get the Co efficents then use it for Building the Best fit Line and return the Predictions of the Test set \n"
   ]
  },
  {
   "cell_type": "code",
   "execution_count": 11,
   "metadata": {
    "colab": {},
    "colab_type": "code",
    "id": "EISmDwSiLqxu"
   },
   "outputs": [],
   "source": [
    "def SimpleLinearRegression(x_train,y_train,x_test):\n",
    "    b0 , b1 = coefficents(x_train,y_train)\n",
    "    x_t = b1 + b0*x_test\n",
    "    return x_t"
   ]
  },
  {
   "cell_type": "code",
   "execution_count": null,
   "metadata": {},
   "outputs": [],
   "source": []
  },
  {
   "cell_type": "code",
   "execution_count": 12,
   "metadata": {},
   "outputs": [],
   "source": [
    "y_pred = SimpleLinearRegression(X_train,y_train,X_test)"
   ]
  },
  {
   "cell_type": "markdown",
   "metadata": {
    "colab_type": "text",
    "id": "r9G9YH-JL0jc"
   },
   "source": [
    "**Twelveth**: Finally Build a Function that Calls The `MSE` function and the `SimpleLineRegression` Function and use it to Print the Result as an Evaluation for the model"
   ]
  },
  {
   "cell_type": "code",
   "execution_count": 13,
   "metadata": {
    "colab": {},
    "colab_type": "code",
    "id": "ak3WsQ6KM3w-"
   },
   "outputs": [],
   "source": [
    "def Evaluate (y_test , y_pred):\n",
    "  return MSE(y_test,y_pred)"
   ]
  },
  {
   "cell_type": "code",
   "execution_count": 14,
   "metadata": {},
   "outputs": [
    {
     "data": {
      "text/plain": [
       "9.859676023418313"
      ]
     },
     "execution_count": 14,
     "metadata": {},
     "output_type": "execute_result"
    }
   ],
   "source": [
    "Evaluate(y_pred ,y_test)"
   ]
  },
  {
   "cell_type": "markdown",
   "metadata": {
    "colab_type": "text",
    "id": "lONNIZLeM_XT"
   },
   "source": [
    "Let me Now visualize your work for you ! Just help me with the Naming"
   ]
  },
  {
   "cell_type": "code",
   "execution_count": 15,
   "metadata": {
    "colab": {},
    "colab_type": "code",
    "id": "H3OyI_SeY2pf"
   },
   "outputs": [
    {
     "data": {
      "text/plain": [
       "<function matplotlib.pyplot.show(*args, **kw)>"
      ]
     },
     "execution_count": 15,
     "metadata": {},
     "output_type": "execute_result"
    },
    {
     "data": {
      "image/png": "[encoded data removed]",
      "text/plain": [
       "<Figure size 720x576 with 1 Axes>"
      ]
     },
     "metadata": {
      "needs_background": "light"
     },
     "output_type": "display_data"
    }
   ],
   "source": [
    "import matplotlib.pyplot as plt\n",
    "plt.figure(figsize=(10,8))\n",
    "plt.title('PREDICTION VS ACTUAL ', fontsize=24 , fontstyle='italic')\n",
    "plt.scatter(list(X_test) ,list(y_test) , alpha =0.9, label='Y', c='r')  # NOTE : Make Sure  x_train , y_train  IN Data Type ( Array )\n",
    "plt.plot(X_test, y_pred, linewidth=2.0)  ## REPLACE X AND Y WITH  X_test AND PREDS ARRAYS! \n",
    "plt.show"
   ]
  },
  {
   "cell_type": "markdown",
   "metadata": {
    "colab_type": "text",
    "id": "eu3O194UNdMc"
   },
   "source": [
    "You 've done So *GREAT* today !\n",
    "# Thank You"
   ]
  },
  {
   "cell_type": "code",
   "execution_count": null,
   "metadata": {
    "colab": {},
    "colab_type": "code",
    "id": "VQfg9xaTNpOT"
   },
   "outputs": [],
   "source": []
  }
 ],
 "metadata": {
  "colab": {
   "collapsed_sections": [],
   "name": "Simple Linear Regression.ipynb",
   "provenance": []
  },
  "kernelspec": {
   "display_name": "Python 3",
   "language": "python",
   "name": "python3"
  },
  "language_info": {
   "codemirror_mode": {
    "name": "ipython",
    "version": 3
   },
   "file_extension": ".py",
   "mimetype": "text/x-python",
   "name": "python",
   "nbconvert_exporter": "python",
   "pygments_lexer": "ipython3",
   "version": "3.7.1"
  }
 },
 "nbformat": 4,
 "nbformat_minor": 1
}
