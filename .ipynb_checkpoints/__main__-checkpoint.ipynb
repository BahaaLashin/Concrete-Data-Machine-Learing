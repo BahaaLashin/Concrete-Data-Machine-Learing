{
 "cells": [
  {
   "cell_type": "code",
   "execution_count": 1,
   "metadata": {},
   "outputs": [],
   "source": [
    "import pandas as pd\n",
    "import numpy as np\n",
    "import matplotlib.pyplot as plt"
   ]
  },
  {
   "cell_type": "code",
   "execution_count": 2,
   "metadata": {},
   "outputs": [],
   "source": [
    "def display(y_test,y_pred):\n",
    "    plt.figure(figsize=(10,8))\n",
    "    plt.title('PREDICTION VS ACTUAL ', fontsize=24 , fontstyle='italic')\n",
    "    plt.plot(range(len(y_test)), np.sort(y_test), '.')\n",
    "    plt.plot(range(len(y_test)),np.sort(y_pred),c='r')\n",
    "    plt.show()"
   ]
  },
  {
   "cell_type": "code",
   "execution_count": 3,
   "metadata": {},
   "outputs": [],
   "source": [
    "def score(y_pred,y_test):\n",
    "    from sklearn.metrics import mean_squared_error , r2_score\n",
    "    print('Mean Squared Error : ', mean_squared_error(y_pred,y_test))\n",
    "    print('R___ Squared Error : ', r2_score(y_pred,y_test))"
   ]
  },
  {
   "cell_type": "code",
   "execution_count": 4,
   "metadata": {},
   "outputs": [],
   "source": [
    "def hypothesis(model):\n",
    "    try:\n",
    "        print(type(model).__name__,' Model coefficient ',model.coef_)\n",
    "        print(type(model).__name__,' Model collinearity ',model.intercept_)\n",
    "    except:\n",
    "        print(type(model).__name__,' Has no coefficient and collinearity')"
   ]
  },
  {
   "cell_type": "code",
   "execution_count": 5,
   "metadata": {},
   "outputs": [],
   "source": [
    "dataSet = pd.read_excel('Concrete_Data.xls')\n",
    "dataSet.columns = ['Cement','Slag','Ash','Water','Superplasticizer','Coarse','Fine','Age','strength']"
   ]
  },
  {
   "cell_type": "code",
   "execution_count": 6,
   "metadata": {},
   "outputs": [
    {
     "name": "stdout",
     "output_type": "stream",
     "text": [
      "<class 'pandas.core.frame.DataFrame'>\n",
      "RangeIndex: 1030 entries, 0 to 1029\n",
      "Data columns (total 9 columns):\n",
      "Cement              1030 non-null float64\n",
      "Slag                1030 non-null float64\n",
      "Ash                 1030 non-null float64\n",
      "Water               1030 non-null float64\n",
      "Superplasticizer    1030 non-null float64\n",
      "Coarse              1030 non-null float64\n",
      "Fine                1030 non-null float64\n",
      "Age                 1030 non-null int64\n",
      "strength            1030 non-null float64\n",
      "dtypes: float64(8), int64(1)\n",
      "memory usage: 72.5 KB\n"
     ]
    }
   ],
   "source": [
    "dataSet.info()"
   ]
  },
  {
   "cell_type": "code",
   "execution_count": 7,
   "metadata": {},
   "outputs": [
    {
     "data": {
      "text/plain": [
       "Cement              0\n",
       "Slag                0\n",
       "Ash                 0\n",
       "Water               0\n",
       "Superplasticizer    0\n",
       "Coarse              0\n",
       "Fine                0\n",
       "Age                 0\n",
       "strength            0\n",
       "dtype: int64"
      ]
     },
     "execution_count": 7,
     "metadata": {},
     "output_type": "execute_result"
    }
   ],
   "source": [
    "dataSet.isnull().sum()"
   ]
  },
  {
   "cell_type": "code",
   "execution_count": 9,
   "metadata": {},
   "outputs": [
    {
     "data": {
      "text/html": [
       "<div>\n",
       "<style scoped>\n",
       "    .dataframe tbody tr th:only-of-type {\n",
       "        vertical-align: middle;\n",
       "    }\n",
       "\n",
       "    .dataframe tbody tr th {\n",
       "        vertical-align: top;\n",
       "    }\n",
       "\n",
       "    .dataframe thead th {\n",
       "        text-align: right;\n",
       "    }\n",
       "</style>\n",
       "<table border=\"1\" class=\"dataframe\">\n",
       "  <thead>\n",
       "    <tr style=\"text-align: right;\">\n",
       "      <th></th>\n",
       "      <th>Cement</th>\n",
       "      <th>Slag</th>\n",
       "      <th>Ash</th>\n",
       "      <th>Water</th>\n",
       "      <th>Superplasticizer</th>\n",
       "      <th>Coarse</th>\n",
       "      <th>Fine</th>\n",
       "      <th>Age</th>\n",
       "      <th>strength</th>\n",
       "    </tr>\n",
       "  </thead>\n",
       "  <tbody>\n",
       "    <tr>\n",
       "      <th>count</th>\n",
       "      <td>1030.000000</td>\n",
       "      <td>1030.000000</td>\n",
       "      <td>1030.000000</td>\n",
       "      <td>1030.000000</td>\n",
       "      <td>1030.000000</td>\n",
       "      <td>1030.000000</td>\n",
       "      <td>1030.000000</td>\n",
       "      <td>1030.000000</td>\n",
       "      <td>1030.000000</td>\n",
       "    </tr>\n",
       "    <tr>\n",
       "      <th>mean</th>\n",
       "      <td>281.165631</td>\n",
       "      <td>73.895485</td>\n",
       "      <td>54.187136</td>\n",
       "      <td>181.566359</td>\n",
       "      <td>6.203112</td>\n",
       "      <td>972.918592</td>\n",
       "      <td>773.578883</td>\n",
       "      <td>45.662136</td>\n",
       "      <td>35.817836</td>\n",
       "    </tr>\n",
       "    <tr>\n",
       "      <th>std</th>\n",
       "      <td>104.507142</td>\n",
       "      <td>86.279104</td>\n",
       "      <td>63.996469</td>\n",
       "      <td>21.355567</td>\n",
       "      <td>5.973492</td>\n",
       "      <td>77.753818</td>\n",
       "      <td>80.175427</td>\n",
       "      <td>63.169912</td>\n",
       "      <td>16.705679</td>\n",
       "    </tr>\n",
       "    <tr>\n",
       "      <th>min</th>\n",
       "      <td>102.000000</td>\n",
       "      <td>0.000000</td>\n",
       "      <td>0.000000</td>\n",
       "      <td>121.750000</td>\n",
       "      <td>0.000000</td>\n",
       "      <td>801.000000</td>\n",
       "      <td>594.000000</td>\n",
       "      <td>1.000000</td>\n",
       "      <td>2.331808</td>\n",
       "    </tr>\n",
       "    <tr>\n",
       "      <th>25%</th>\n",
       "      <td>192.375000</td>\n",
       "      <td>0.000000</td>\n",
       "      <td>0.000000</td>\n",
       "      <td>164.900000</td>\n",
       "      <td>0.000000</td>\n",
       "      <td>932.000000</td>\n",
       "      <td>730.950000</td>\n",
       "      <td>7.000000</td>\n",
       "      <td>23.707115</td>\n",
       "    </tr>\n",
       "    <tr>\n",
       "      <th>50%</th>\n",
       "      <td>272.900000</td>\n",
       "      <td>22.000000</td>\n",
       "      <td>0.000000</td>\n",
       "      <td>185.000000</td>\n",
       "      <td>6.350000</td>\n",
       "      <td>968.000000</td>\n",
       "      <td>779.510000</td>\n",
       "      <td>28.000000</td>\n",
       "      <td>34.442774</td>\n",
       "    </tr>\n",
       "    <tr>\n",
       "      <th>75%</th>\n",
       "      <td>350.000000</td>\n",
       "      <td>142.950000</td>\n",
       "      <td>118.270000</td>\n",
       "      <td>192.000000</td>\n",
       "      <td>10.160000</td>\n",
       "      <td>1029.400000</td>\n",
       "      <td>824.000000</td>\n",
       "      <td>56.000000</td>\n",
       "      <td>46.136287</td>\n",
       "    </tr>\n",
       "    <tr>\n",
       "      <th>max</th>\n",
       "      <td>540.000000</td>\n",
       "      <td>359.400000</td>\n",
       "      <td>200.100000</td>\n",
       "      <td>247.000000</td>\n",
       "      <td>32.200000</td>\n",
       "      <td>1145.000000</td>\n",
       "      <td>992.600000</td>\n",
       "      <td>365.000000</td>\n",
       "      <td>82.599225</td>\n",
       "    </tr>\n",
       "  </tbody>\n",
       "</table>\n",
       "</div>"
      ],
      "text/plain": [
       "            Cement         Slag          Ash        Water  Superplasticizer  \\\n",
       "count  1030.000000  1030.000000  1030.000000  1030.000000       1030.000000   \n",
       "mean    281.165631    73.895485    54.187136   181.566359          6.203112   \n",
       "std     104.507142    86.279104    63.996469    21.355567          5.973492   \n",
       "min     102.000000     0.000000     0.000000   121.750000          0.000000   \n",
       "25%     192.375000     0.000000     0.000000   164.900000          0.000000   \n",
       "50%     272.900000    22.000000     0.000000   185.000000          6.350000   \n",
       "75%     350.000000   142.950000   118.270000   192.000000         10.160000   \n",
       "max     540.000000   359.400000   200.100000   247.000000         32.200000   \n",
       "\n",
       "            Coarse         Fine          Age     strength  \n",
       "count  1030.000000  1030.000000  1030.000000  1030.000000  \n",
       "mean    972.918592   773.578883    45.662136    35.817836  \n",
       "std      77.753818    80.175427    63.169912    16.705679  \n",
       "min     801.000000   594.000000     1.000000     2.331808  \n",
       "25%     932.000000   730.950000     7.000000    23.707115  \n",
       "50%     968.000000   779.510000    28.000000    34.442774  \n",
       "75%    1029.400000   824.000000    56.000000    46.136287  \n",
       "max    1145.000000   992.600000   365.000000    82.599225  "
      ]
     },
     "execution_count": 9,
     "metadata": {},
     "output_type": "execute_result"
    }
   ],
   "source": [
    "dataSet.describe()"
   ]
  },
  {
   "cell_type": "code",
   "execution_count": 12,
   "metadata": {},
   "outputs": [
    {
     "data": {
      "text/html": [
       "<div>\n",
       "<style scoped>\n",
       "    .dataframe tbody tr th:only-of-type {\n",
       "        vertical-align: middle;\n",
       "    }\n",
       "\n",
       "    .dataframe tbody tr th {\n",
       "        vertical-align: top;\n",
       "    }\n",
       "\n",
       "    .dataframe thead th {\n",
       "        text-align: right;\n",
       "    }\n",
       "</style>\n",
       "<table border=\"1\" class=\"dataframe\">\n",
       "  <thead>\n",
       "    <tr style=\"text-align: right;\">\n",
       "      <th></th>\n",
       "      <th>Cement</th>\n",
       "      <th>Slag</th>\n",
       "      <th>Ash</th>\n",
       "      <th>Water</th>\n",
       "      <th>Superplasticizer</th>\n",
       "      <th>Coarse</th>\n",
       "      <th>Fine</th>\n",
       "      <th>Age</th>\n",
       "      <th>strength</th>\n",
       "    </tr>\n",
       "  </thead>\n",
       "  <tbody>\n",
       "    <tr>\n",
       "      <th>Cement</th>\n",
       "      <td>1.000000</td>\n",
       "      <td>-0.275193</td>\n",
       "      <td>-0.397475</td>\n",
       "      <td>-0.081544</td>\n",
       "      <td>0.092771</td>\n",
       "      <td>-0.109356</td>\n",
       "      <td>-0.222720</td>\n",
       "      <td>0.081947</td>\n",
       "      <td>0.497833</td>\n",
       "    </tr>\n",
       "    <tr>\n",
       "      <th>Slag</th>\n",
       "      <td>-0.275193</td>\n",
       "      <td>1.000000</td>\n",
       "      <td>-0.323569</td>\n",
       "      <td>0.107286</td>\n",
       "      <td>0.043376</td>\n",
       "      <td>-0.283998</td>\n",
       "      <td>-0.281593</td>\n",
       "      <td>-0.044246</td>\n",
       "      <td>0.134824</td>\n",
       "    </tr>\n",
       "    <tr>\n",
       "      <th>Ash</th>\n",
       "      <td>-0.397475</td>\n",
       "      <td>-0.323569</td>\n",
       "      <td>1.000000</td>\n",
       "      <td>-0.257044</td>\n",
       "      <td>0.377340</td>\n",
       "      <td>-0.009977</td>\n",
       "      <td>0.079076</td>\n",
       "      <td>-0.154370</td>\n",
       "      <td>-0.105753</td>\n",
       "    </tr>\n",
       "    <tr>\n",
       "      <th>Water</th>\n",
       "      <td>-0.081544</td>\n",
       "      <td>0.107286</td>\n",
       "      <td>-0.257044</td>\n",
       "      <td>1.000000</td>\n",
       "      <td>-0.657464</td>\n",
       "      <td>-0.182312</td>\n",
       "      <td>-0.450635</td>\n",
       "      <td>0.277604</td>\n",
       "      <td>-0.289613</td>\n",
       "    </tr>\n",
       "    <tr>\n",
       "      <th>Superplasticizer</th>\n",
       "      <td>0.092771</td>\n",
       "      <td>0.043376</td>\n",
       "      <td>0.377340</td>\n",
       "      <td>-0.657464</td>\n",
       "      <td>1.000000</td>\n",
       "      <td>-0.266303</td>\n",
       "      <td>0.222501</td>\n",
       "      <td>-0.192717</td>\n",
       "      <td>0.366102</td>\n",
       "    </tr>\n",
       "    <tr>\n",
       "      <th>Coarse</th>\n",
       "      <td>-0.109356</td>\n",
       "      <td>-0.283998</td>\n",
       "      <td>-0.009977</td>\n",
       "      <td>-0.182312</td>\n",
       "      <td>-0.266303</td>\n",
       "      <td>1.000000</td>\n",
       "      <td>-0.178506</td>\n",
       "      <td>-0.003016</td>\n",
       "      <td>-0.164928</td>\n",
       "    </tr>\n",
       "    <tr>\n",
       "      <th>Fine</th>\n",
       "      <td>-0.222720</td>\n",
       "      <td>-0.281593</td>\n",
       "      <td>0.079076</td>\n",
       "      <td>-0.450635</td>\n",
       "      <td>0.222501</td>\n",
       "      <td>-0.178506</td>\n",
       "      <td>1.000000</td>\n",
       "      <td>-0.156094</td>\n",
       "      <td>-0.167249</td>\n",
       "    </tr>\n",
       "    <tr>\n",
       "      <th>Age</th>\n",
       "      <td>0.081947</td>\n",
       "      <td>-0.044246</td>\n",
       "      <td>-0.154370</td>\n",
       "      <td>0.277604</td>\n",
       "      <td>-0.192717</td>\n",
       "      <td>-0.003016</td>\n",
       "      <td>-0.156094</td>\n",
       "      <td>1.000000</td>\n",
       "      <td>0.328877</td>\n",
       "    </tr>\n",
       "    <tr>\n",
       "      <th>strength</th>\n",
       "      <td>0.497833</td>\n",
       "      <td>0.134824</td>\n",
       "      <td>-0.105753</td>\n",
       "      <td>-0.289613</td>\n",
       "      <td>0.366102</td>\n",
       "      <td>-0.164928</td>\n",
       "      <td>-0.167249</td>\n",
       "      <td>0.328877</td>\n",
       "      <td>1.000000</td>\n",
       "    </tr>\n",
       "  </tbody>\n",
       "</table>\n",
       "</div>"
      ],
      "text/plain": [
       "                    Cement      Slag       Ash     Water  Superplasticizer  \\\n",
       "Cement            1.000000 -0.275193 -0.397475 -0.081544          0.092771   \n",
       "Slag             -0.275193  1.000000 -0.323569  0.107286          0.043376   \n",
       "Ash              -0.397475 -0.323569  1.000000 -0.257044          0.377340   \n",
       "Water            -0.081544  0.107286 -0.257044  1.000000         -0.657464   \n",
       "Superplasticizer  0.092771  0.043376  0.377340 -0.657464          1.000000   \n",
       "Coarse           -0.109356 -0.283998 -0.009977 -0.182312         -0.266303   \n",
       "Fine             -0.222720 -0.281593  0.079076 -0.450635          0.222501   \n",
       "Age               0.081947 -0.044246 -0.154370  0.277604         -0.192717   \n",
       "strength          0.497833  0.134824 -0.105753 -0.289613          0.366102   \n",
       "\n",
       "                    Coarse      Fine       Age  strength  \n",
       "Cement           -0.109356 -0.222720  0.081947  0.497833  \n",
       "Slag             -0.283998 -0.281593 -0.044246  0.134824  \n",
       "Ash              -0.009977  0.079076 -0.154370 -0.105753  \n",
       "Water            -0.182312 -0.450635  0.277604 -0.289613  \n",
       "Superplasticizer -0.266303  0.222501 -0.192717  0.366102  \n",
       "Coarse            1.000000 -0.178506 -0.003016 -0.164928  \n",
       "Fine             -0.178506  1.000000 -0.156094 -0.167249  \n",
       "Age              -0.003016 -0.156094  1.000000  0.328877  \n",
       "strength         -0.164928 -0.167249  0.328877  1.000000  "
      ]
     },
     "execution_count": 12,
     "metadata": {},
     "output_type": "execute_result"
    }
   ],
   "source": [
    "dataSet.corr()"
   ]
  },
  {
   "cell_type": "code",
   "execution_count": 11,
   "metadata": {},
   "outputs": [
    {
     "data": {
      "image/png": "[encoded data removed]",
      "text/plain": [
       "<Figure size 288x288 with 1 Axes>"
      ]
     },
     "metadata": {
      "needs_background": "light"
     },
     "output_type": "display_data"
    }
   ],
   "source": [
    "plt.matshow(dataSet.corr())\n",
    "plt.show()"
   ]
  },
  {
   "cell_type": "code",
   "execution_count": 650,
   "metadata": {},
   "outputs": [
    {
     "data": {
      "text/plain": [
       "array([[<matplotlib.axes._subplots.AxesSubplot object at 0x000002BA37C95A90>,\n",
       "        <matplotlib.axes._subplots.AxesSubplot object at 0x000002BA398A43C8>,\n",
       "        <matplotlib.axes._subplots.AxesSubplot object at 0x000002BA39A36630>],\n",
       "       [<matplotlib.axes._subplots.AxesSubplot object at 0x000002BA39A5C898>,\n",
       "        <matplotlib.axes._subplots.AxesSubplot object at 0x000002BA39A86B00>,\n",
       "        <matplotlib.axes._subplots.AxesSubplot object at 0x000002BA38549358>],\n",
       "       [<matplotlib.axes._subplots.AxesSubplot object at 0x000002BA3855A978>,\n",
       "        <matplotlib.axes._subplots.AxesSubplot object at 0x000002BA39ACBC18>,\n",
       "        <matplotlib.axes._subplots.AxesSubplot object at 0x000002BA39ACBC50>]],\n",
       "      dtype=object)"
      ]
     },
     "execution_count": 650,
     "metadata": {},
     "output_type": "execute_result"
    },
    {
     "data": {
      "image/png": "[encoded data removed]",
      "text/plain": [
       "<Figure size 432x288 with 9 Axes>"
      ]
     },
     "metadata": {
      "needs_background": "light"
     },
     "output_type": "display_data"
    }
   ],
   "source": [
    "dataSet.hist()"
   ]
  },
  {
   "cell_type": "code",
   "execution_count": 651,
   "metadata": {},
   "outputs": [],
   "source": [
    "X = dataSet.iloc[:,[0,1,2,3,7]].values\n",
    "y = dataSet.iloc[:,-1].values"
   ]
  },
  {
   "cell_type": "code",
   "execution_count": 652,
   "metadata": {},
   "outputs": [],
   "source": [
    "############################################################################################################################\n",
    "# Linear regression\n",
    "############################################################################################################################"
   ]
  },
  {
   "cell_type": "code",
   "execution_count": 653,
   "metadata": {},
   "outputs": [],
   "source": [
    "from sklearn.model_selection import train_test_split\n",
    "X_train , X_test , y_train , y_test = train_test_split(X,y,test_size=.2,random_state=0)"
   ]
  },
  {
   "cell_type": "code",
   "execution_count": 654,
   "metadata": {},
   "outputs": [
    {
     "name": "stdout",
     "output_type": "stream",
     "text": [
      "The Features to be trained on : (824, 5)\n",
      "The Labels to be trained on : (824,)\n",
      "The Features to be tested on : (206, 5)\n",
      "The Labels to be tested on : (206,)\n",
      "X_train type :  <class 'numpy.ndarray'> X_test type : <class 'numpy.ndarray'> y_train type : <class 'numpy.ndarray'> y_test type : <class 'numpy.ndarray'>\n"
     ]
    }
   ],
   "source": [
    "print('The Features to be trained on :', X_train.shape )\n",
    "print('The Labels to be trained on :', y_train.shape )\n",
    "print('The Features to be tested on :', X_test.shape )\n",
    "print('The Labels to be tested on :', y_test.shape )\n",
    "print('X_train type : ', type(X_train), 'X_test type :',type(X_test) ,'y_train type :', type(y_train) , 'y_test type :', type(y_test) )"
   ]
  },
  {
   "cell_type": "code",
   "execution_count": 655,
   "metadata": {},
   "outputs": [
    {
     "data": {
      "text/plain": [
       "LinearRegression(copy_X=True, fit_intercept=True, n_jobs=None,\n",
       "         normalize=False)"
      ]
     },
     "execution_count": 655,
     "metadata": {},
     "output_type": "execute_result"
    }
   ],
   "source": [
    "from sklearn.linear_model import LinearRegression\n",
    "model = LinearRegression()\n",
    "model.fit(X_train,y_train)\n"
   ]
  },
  {
   "cell_type": "code",
   "execution_count": 656,
   "metadata": {},
   "outputs": [
    {
     "name": "stdout",
     "output_type": "stream",
     "text": [
      "Mean Squared Error :  95.90032435222305\n",
      "R___ Squared Error :  0.41982706753769317\n"
     ]
    }
   ],
   "source": [
    "y_pred = model.predict(X_test)\n",
    "score(y_pred,y_test)"
   ]
  },
  {
   "cell_type": "code",
   "execution_count": 657,
   "metadata": {},
   "outputs": [
    {
     "name": "stdout",
     "output_type": "stream",
     "text": [
      "LinearRegression  Model coefficient  [ 0.10776708  0.09463575  0.07992727 -0.26316989  0.11500146]\n",
      "LinearRegression  Model collinearity  36.75233981478302\n"
     ]
    }
   ],
   "source": [
    "hypothesis(model)"
   ]
  },
  {
   "cell_type": "code",
   "execution_count": 658,
   "metadata": {},
   "outputs": [
    {
     "data": {
      "image/png": "[encoded data removed]",
      "text/plain": [
       "<Figure size 720x576 with 1 Axes>"
      ]
     },
     "metadata": {
      "needs_background": "light"
     },
     "output_type": "display_data"
    }
   ],
   "source": [
    "display(y_pred,y_test)"
   ]
  },
  {
   "cell_type": "code",
   "execution_count": 659,
   "metadata": {},
   "outputs": [],
   "source": [
    "############################################################################################################################\n",
    "# Support Vector Machine\n",
    "############################################################################################################################"
   ]
  },
  {
   "cell_type": "code",
   "execution_count": 660,
   "metadata": {},
   "outputs": [],
   "source": [
    "from sklearn.svm import SVR"
   ]
  },
  {
   "cell_type": "code",
   "execution_count": 661,
   "metadata": {},
   "outputs": [],
   "source": [
    "model = SVR(kernel='linear')"
   ]
  },
  {
   "cell_type": "code",
   "execution_count": 662,
   "metadata": {},
   "outputs": [
    {
     "data": {
      "text/plain": [
       "SVR(C=1.0, cache_size=200, coef0=0.0, degree=3, epsilon=0.1,\n",
       "  gamma='auto_deprecated', kernel='linear', max_iter=-1, shrinking=True,\n",
       "  tol=0.001, verbose=False)"
      ]
     },
     "execution_count": 662,
     "metadata": {},
     "output_type": "execute_result"
    }
   ],
   "source": [
    "model.fit(X_train,y_train)"
   ]
  },
  {
   "cell_type": "code",
   "execution_count": 663,
   "metadata": {},
   "outputs": [
    {
     "name": "stdout",
     "output_type": "stream",
     "text": [
      "Mean Squared Error :  114.77176558110456\n",
      "R___ Squared Error :  0.5183443606909105\n"
     ]
    }
   ],
   "source": [
    "y_pred = model.predict(X_test)\n",
    "score(y_pred,y_test)"
   ]
  },
  {
   "cell_type": "code",
   "execution_count": 664,
   "metadata": {},
   "outputs": [
    {
     "name": "stdout",
     "output_type": "stream",
     "text": [
      "SVR  Model coefficient  [[ 0.11463614  0.10358675  0.08702784 -0.25752481  0.17560332]]\n",
      "SVR  Model collinearity  [31.44022548]\n"
     ]
    }
   ],
   "source": [
    "hypothesis(model)"
   ]
  },
  {
   "cell_type": "code",
   "execution_count": 665,
   "metadata": {},
   "outputs": [
    {
     "data": {
      "image/png": "[encoded data removed]",
      "text/plain": [
       "<Figure size 720x576 with 1 Axes>"
      ]
     },
     "metadata": {
      "needs_background": "light"
     },
     "output_type": "display_data"
    }
   ],
   "source": [
    "display(y_pred,y_test)"
   ]
  },
  {
   "cell_type": "code",
   "execution_count": 666,
   "metadata": {},
   "outputs": [],
   "source": [
    "############################################################################################################################\n",
    "# Decision Tree Regression\n",
    "############################################################################################################################"
   ]
  },
  {
   "cell_type": "code",
   "execution_count": 667,
   "metadata": {},
   "outputs": [],
   "source": [
    "from sklearn.tree import DecisionTreeRegressor"
   ]
  },
  {
   "cell_type": "code",
   "execution_count": 668,
   "metadata": {},
   "outputs": [],
   "source": [
    "model = DecisionTreeRegressor()"
   ]
  },
  {
   "cell_type": "code",
   "execution_count": 669,
   "metadata": {},
   "outputs": [
    {
     "data": {
      "text/plain": [
       "DecisionTreeRegressor(criterion='mse', max_depth=None, max_features=None,\n",
       "           max_leaf_nodes=None, min_impurity_decrease=0.0,\n",
       "           min_impurity_split=None, min_samples_leaf=1,\n",
       "           min_samples_split=2, min_weight_fraction_leaf=0.0,\n",
       "           presort=False, random_state=None, splitter='best')"
      ]
     },
     "execution_count": 669,
     "metadata": {},
     "output_type": "execute_result"
    }
   ],
   "source": [
    "model.fit(X_train,y_train)"
   ]
  },
  {
   "cell_type": "code",
   "execution_count": 670,
   "metadata": {},
   "outputs": [
    {
     "name": "stdout",
     "output_type": "stream",
     "text": [
      "Mean Squared Error :  39.08201444976897\n",
      "R___ Squared Error :  0.8538564825311247\n"
     ]
    }
   ],
   "source": [
    "y_pred = model.predict(X_test)\n",
    "score(y_pred,y_test)"
   ]
  },
  {
   "cell_type": "code",
   "execution_count": 671,
   "metadata": {},
   "outputs": [
    {
     "name": "stdout",
     "output_type": "stream",
     "text": [
      "DecisionTreeRegressor  Has no coefficient and collinearity\n"
     ]
    }
   ],
   "source": [
    "hypothesis(model)"
   ]
  },
  {
   "cell_type": "code",
   "execution_count": 672,
   "metadata": {},
   "outputs": [
    {
     "data": {
      "image/png": "[encoded data removed]",
      "text/plain": [
       "<Figure size 720x576 with 1 Axes>"
      ]
     },
     "metadata": {
      "needs_background": "light"
     },
     "output_type": "display_data"
    }
   ],
   "source": [
    "display(y_pred,y_test)"
   ]
  },
  {
   "cell_type": "code",
   "execution_count": 673,
   "metadata": {},
   "outputs": [],
   "source": [
    "############################################################################################################################\n",
    "# Random forced regression\n",
    "############################################################################################################################"
   ]
  },
  {
   "cell_type": "code",
   "execution_count": 674,
   "metadata": {},
   "outputs": [],
   "source": [
    "from sklearn.ensemble import RandomForestRegressor"
   ]
  },
  {
   "cell_type": "code",
   "execution_count": 675,
   "metadata": {},
   "outputs": [],
   "source": [
    "model = RandomForestRegressor(n_estimators=10,random_state=0)"
   ]
  },
  {
   "cell_type": "code",
   "execution_count": 676,
   "metadata": {},
   "outputs": [
    {
     "data": {
      "text/plain": [
       "RandomForestRegressor(bootstrap=True, criterion='mse', max_depth=None,\n",
       "           max_features='auto', max_leaf_nodes=None,\n",
       "           min_impurity_decrease=0.0, min_impurity_split=None,\n",
       "           min_samples_leaf=1, min_samples_split=2,\n",
       "           min_weight_fraction_leaf=0.0, n_estimators=10, n_jobs=None,\n",
       "           oob_score=False, random_state=0, verbose=0, warm_start=False)"
      ]
     },
     "execution_count": 676,
     "metadata": {},
     "output_type": "execute_result"
    }
   ],
   "source": [
    "model.fit(X_train,y_train)"
   ]
  },
  {
   "cell_type": "code",
   "execution_count": 677,
   "metadata": {},
   "outputs": [
    {
     "name": "stdout",
     "output_type": "stream",
     "text": [
      "Mean Squared Error :  22.224624358839606\n",
      "R___ Squared Error :  0.9087936959678089\n"
     ]
    }
   ],
   "source": [
    "y_pred = model.predict(X_test)\n",
    "score(y_pred,y_test)"
   ]
  },
  {
   "cell_type": "code",
   "execution_count": 678,
   "metadata": {},
   "outputs": [
    {
     "name": "stdout",
     "output_type": "stream",
     "text": [
      "RandomForestRegressor  Has no coefficient and collinearity\n"
     ]
    }
   ],
   "source": [
    "hypothesis(model)"
   ]
  },
  {
   "cell_type": "code",
   "execution_count": 679,
   "metadata": {},
   "outputs": [
    {
     "data": {
      "image/png": "[encoded data removed]",
      "text/plain": [
       "<Figure size 720x576 with 1 Axes>"
      ]
     },
     "metadata": {
      "needs_background": "light"
     },
     "output_type": "display_data"
    }
   ],
   "source": [
    "display(y_pred,y_test)"
   ]
  },
  {
   "cell_type": "code",
   "execution_count": 680,
   "metadata": {},
   "outputs": [],
   "source": [
    "############################################################################################################################\n",
    "# Polynomial \n",
    "############################################################################################################################"
   ]
  },
  {
   "cell_type": "code",
   "execution_count": 681,
   "metadata": {},
   "outputs": [],
   "source": [
    "from sklearn.preprocessing import PolynomialFeatures\n",
    "x_poly = PolynomialFeatures(degree=4)\n",
    "X = x_poly.fit_transform(X)"
   ]
  },
  {
   "cell_type": "code",
   "execution_count": 682,
   "metadata": {},
   "outputs": [],
   "source": [
    "from sklearn.model_selection import train_test_split\n",
    "X_train , X_test , y_train , y_test = train_test_split(X,y,test_size=.2,random_state=0)"
   ]
  },
  {
   "cell_type": "code",
   "execution_count": 683,
   "metadata": {},
   "outputs": [],
   "source": [
    "from sklearn.preprocessing import MinMaxScaler\n",
    "std = MinMaxScaler()\n",
    "X_train = std.fit_transform(X_train)\n",
    "X_test = std.transform(X_test)"
   ]
  },
  {
   "cell_type": "code",
   "execution_count": 684,
   "metadata": {},
   "outputs": [
    {
     "name": "stdout",
     "output_type": "stream",
     "text": [
      "The Features to be trained on : (824, 126)\n",
      "The Labels to be trained on : (824,)\n",
      "The Features to be tested on : (206, 126)\n",
      "The Labels to be tested on : (206,)\n",
      "X_train type :  <class 'numpy.ndarray'> X_test type : <class 'numpy.ndarray'> y_train type : <class 'numpy.ndarray'> y_test type : <class 'numpy.ndarray'>\n"
     ]
    }
   ],
   "source": [
    "print('The Features to be trained on :', X_train.shape )\n",
    "print('The Labels to be trained on :', y_train.shape )\n",
    "print('The Features to be tested on :', X_test.shape )\n",
    "print('The Labels to be tested on :', y_test.shape )\n",
    "print('X_train type : ', type(X_train), 'X_test type :',type(X_test) ,'y_train type :', type(y_train) , 'y_test type :', type(y_test) )"
   ]
  },
  {
   "cell_type": "code",
   "execution_count": 685,
   "metadata": {},
   "outputs": [
    {
     "data": {
      "text/plain": [
       "LinearRegression(copy_X=True, fit_intercept=True, n_jobs=None,\n",
       "         normalize=False)"
      ]
     },
     "execution_count": 685,
     "metadata": {},
     "output_type": "execute_result"
    }
   ],
   "source": [
    "from sklearn.linear_model import LinearRegression\n",
    "model = LinearRegression()\n",
    "model.fit(X_train,y_train)"
   ]
  },
  {
   "cell_type": "code",
   "execution_count": 686,
   "metadata": {},
   "outputs": [
    {
     "name": "stdout",
     "output_type": "stream",
     "text": [
      "Mean Squared Error :  27.20475741392965\n",
      "R___ Squared Error :  0.8914027090422239\n"
     ]
    }
   ],
   "source": [
    "y_pred = model.predict(X_test)\n",
    "score(y_pred,y_test)"
   ]
  },
  {
   "cell_type": "code",
   "execution_count": 687,
   "metadata": {},
   "outputs": [
    {
     "name": "stdout",
     "output_type": "stream",
     "text": [
      "LinearRegression  Model coefficient  [ 9.05775316e-09  7.75761895e+03  5.26151645e+03  1.16415438e+03\n",
      "  1.07750017e+04  1.54784903e+02 -8.38322067e+03 -4.95044291e+03\n",
      " -1.88300214e+03 -1.45556562e+04  8.80099511e+02 -7.50374394e+02\n",
      " -4.79586979e+02 -1.09926437e+04  3.21684931e+03 -3.93311927e+02\n",
      " -2.34212975e+03  8.21217265e+02 -2.51667051e+04 -2.38013976e+03\n",
      "  3.57425125e+02  1.99351318e+03  1.75173336e+03  6.68971186e+02\n",
      "  1.11620279e+04 -1.05692900e+03  8.11092113e+02  8.20631318e+02\n",
      "  6.38857037e+03 -1.14506409e+03  7.99319916e+02  1.91838482e+03\n",
      " -2.63852698e+02  1.04268202e+04  1.19483772e+03 -1.32116793e+03\n",
      "  4.32650551e+02  1.90331530e+02  9.35595251e+01 -6.00703670e+02\n",
      "  8.88587525e+02 -9.69030123e+02 -8.58761155e+01  8.71268019e+03\n",
      " -4.28722208e+03 -1.10869373e+03  1.05359808e+03 -1.44017107e+03\n",
      " -6.95692464e+02  3.20174339e+03 -5.14188378e+02 -1.82825292e+02\n",
      "  2.10205999e+04  4.35074325e+03 -3.04169779e+03  2.11860595e+03\n",
      "  2.72981527e+02  2.79221820e+01  3.64693074e+02 -2.46174468e+03\n",
      "  4.62844843e+02  2.67521145e+02 -5.35866191e+01 -1.97781848e+03\n",
      "  1.82963194e+02  1.00029569e+01 -1.49062177e+03  9.60746515e+01\n",
      " -3.15843192e+03 -5.73852982e+02  6.14886384e+02  2.45643047e+02\n",
      "  8.02721712e+01 -1.60401631e+03  1.87070234e+02 -1.56181867e+02\n",
      " -7.60532474e+02 -4.16960317e+01 -1.08587408e+03  4.50296730e+02\n",
      "  1.13657532e+02 -1.86221854e+02 -4.95286660e+02  2.53495677e+02\n",
      "  5.12435470e+02 -3.91851542e+01 -2.04870858e+01 -3.14917972e+03\n",
      " -3.20315804e+01 -4.46396674e+02  5.24677699e+02 -1.86825573e+00\n",
      "  8.60933079e+00 -6.38613948e+02  5.77461796e+01 -5.48889349e+01\n",
      " -2.86196789e+02 -1.39581067e+01  1.15659568e+03  2.51309092e+02\n",
      " -1.19911546e+01 -1.34079199e+02 -5.23263617e+02  1.42124752e+01\n",
      "  1.54152138e+03  1.13131040e+02 -1.19310494e+01 -3.70749618e+03\n",
      "  1.98789966e+03  3.45738826e+02  4.06585692e+02 -4.05583274e+02\n",
      " -8.07547590e+01  1.17138568e+02  1.28596546e+03  2.16221770e+02\n",
      "  1.57700050e+01 -2.34620953e+03  1.33775496e+02  8.36942675e+01\n",
      "  6.36349355e+01 -5.62176948e+03 -2.74732594e+03  2.87968019e+03\n",
      " -1.18149529e+03 -7.06972564e+02]\n",
      "LinearRegression  Model collinearity  -887.4046946971281\n"
     ]
    }
   ],
   "source": [
    "hypothesis(model)"
   ]
  },
  {
   "cell_type": "code",
   "execution_count": 688,
   "metadata": {},
   "outputs": [
    {
     "data": {
      "image/png": "[encoded data removed]",
      "text/plain": [
       "<Figure size 720x576 with 1 Axes>"
      ]
     },
     "metadata": {
      "needs_background": "light"
     },
     "output_type": "display_data"
    }
   ],
   "source": [
    "display(y_pred,y_test)"
   ]
  }
 ],
 "metadata": {
  "kernelspec": {
   "display_name": "Python 3",
   "language": "python",
   "name": "python3"
  },
  "language_info": {
   "codemirror_mode": {
    "name": "ipython",
    "version": 3
   },
   "file_extension": ".py",
   "mimetype": "text/x-python",
   "name": "python",
   "nbconvert_exporter": "python",
   "pygments_lexer": "ipython3",
   "version": "3.7.1"
  }
 },
 "nbformat": 4,
 "nbformat_minor": 2
}
