{
 "cells": [
  {
   "cell_type": "code",
   "execution_count": 167,
   "metadata": {},
   "outputs": [],
   "source": [
    "# Libraries \n",
    "import numpy as np\n",
    "import pandas as pd\n",
    "import matplotlib.pyplot as plt"
   ]
  },
  {
   "cell_type": "code",
   "execution_count": 245,
   "metadata": {},
   "outputs": [],
   "source": [
    "dataSet = pd.read_excel('Concrete_Data.xls')\n",
    "X = dataSet.iloc[:,[0,1,2,3,4,7]].values\n",
    "y = dataSet.iloc[:,-1].values"
   ]
  },
  {
   "cell_type": "code",
   "execution_count": 246,
   "metadata": {},
   "outputs": [],
   "source": [
    "from sklearn.preprocessing import PolynomialFeatures\n",
    "x_poly = PolynomialFeatures(degree=3)\n",
    "X = x_poly.fit_transform(X)"
   ]
  },
  {
   "cell_type": "code",
   "execution_count": 247,
   "metadata": {},
   "outputs": [],
   "source": [
    "from sklearn.model_selection import train_test_split\n",
    "X_train , X_test , y_train , y_test = train_test_split(X,y,test_size=.2,random_state=0)"
   ]
  },
  {
   "cell_type": "code",
   "execution_count": 248,
   "metadata": {},
   "outputs": [],
   "source": [
    "from sklearn.preprocessing import StandardScaler\n",
    "std = StandardScaler()\n",
    "X_train = std.fit_transform(X_train)\n",
    "X_test = std.transform(X_test)"
   ]
  },
  {
   "cell_type": "code",
   "execution_count": 249,
   "metadata": {},
   "outputs": [
    {
     "data": {
      "text/plain": [
       "LinearRegression(copy_X=True, fit_intercept=True, n_jobs=None,\n",
       "         normalize=False)"
      ]
     },
     "execution_count": 249,
     "metadata": {},
     "output_type": "execute_result"
    }
   ],
   "source": [
    "from sklearn.linear_model import LinearRegression\n",
    "model = LinearRegression()\n",
    "model.fit(X_train,y_train)"
   ]
  },
  {
   "cell_type": "code",
   "execution_count": 250,
   "metadata": {},
   "outputs": [],
   "source": [
    "y_pred = model.predict(X_test)"
   ]
  },
  {
   "cell_type": "code",
   "execution_count": 251,
   "metadata": {},
   "outputs": [
    {
     "data": {
      "text/plain": [
       "38.50767281125272"
      ]
     },
     "execution_count": 251,
     "metadata": {},
     "output_type": "execute_result"
    }
   ],
   "source": [
    "from sklearn.metrics import mean_squared_error\n",
    "valid = mean_squared_error(y_pred,y_test)\n",
    "valid"
   ]
  },
  {
   "cell_type": "code",
   "execution_count": 215,
   "metadata": {},
   "outputs": [
    {
     "data": {
      "text/plain": [
       "array([31.3856807 ,  9.22208896, 77.59031323, 59.74535537, 12.12323832,\n",
       "       45.93016776, 51.8489566 , 22.61790428, 62.16711066, 44.82692203,\n",
       "       17.02082455, 45.69179865, 37.95008964, 21.1302398 , 53.67301313,\n",
       "       63.49057539, 35.08539614, 37.86220526, 49.71168095, 39.0809389 ,\n",
       "       62.48592182, 25.43050853, 25.69584551, 47.44078643, 20.13266013,\n",
       "       25.98687996, 57.51846931, 22.59998435, 63.49057539, 61.26159284,\n",
       "       19.59767321, 47.82201963, 22.93700596, 33.90727638, 21.10413799,\n",
       "        9.12136367, 43.38545418, 26.26978863, 25.88585943, 27.41120603,\n",
       "       48.71996906, 40.78638756, 27.21078584, 36.63367757, 46.20058702,\n",
       "       44.31591784, 25.94422779, 39.39725768, 26.86384588, 56.97737102,\n",
       "       42.61564833, 23.71027214, 27.34346117, 41.68724157, 55.40989719,\n",
       "       43.09394172, 42.28502664, 49.70143408, 67.88480236, 54.80117473,\n",
       "       34.03784233, 17.2278923 , 52.01635603, 41.97149692, 15.42753237,\n",
       "       50.11762822, 37.12946463, 29.94052227, 12.58526564, 16.55587322,\n",
       "       17.06718064, 28.28627345, 46.75181059, 22.90482534, 39.49329697,\n",
       "       31.85394319, 29.52343697, 13.82202904, 27.22492736, 36.17384333,\n",
       "       16.66122392, 56.89140755, 25.18810104, 27.01547849, 50.16106437,\n",
       "       40.31073534, 33.93590501, 48.72878045, 42.41939067, 39.12657732,\n",
       "       67.9592955 , 16.4529897 , 15.56779894, 42.44659753, 19.6711346 ,\n",
       "       33.81193775, 18.01233032, 37.40430665, 48.72878045, 35.70342578,\n",
       "       19.13768082, 26.33457786, 32.5624301 , 30.27536214, 45.09991819,\n",
       "       39.25864916, 52.48547004, 20.35533598, 30.82614576, 43.44145645,\n",
       "        9.11463699, 58.57302213, 17.73757321, 27.35941948, 43.41960342,\n",
       "       65.8371522 , 34.41042808, 31.36448456, 40.53613936, 18.62559185,\n",
       "       43.19507618, 29.3822202 , 67.8023614 , 28.39361285, 13.20881346,\n",
       "       14.84255143, 11.57651556, 11.1037971 , 44.34617249, 40.58037378,\n",
       "       33.14889771, 40.43738112, 31.10258649, 28.22658591, 15.18661313,\n",
       "       62.48592182, 48.55181448, 39.61928964,  1.59043065, 11.60015615,\n",
       "       37.37632024, 40.77449976, 24.46741887, 46.15182738, 15.50763301,\n",
       "       28.32653769, 33.93590501, 17.76994194, 30.76620965, 16.86260744,\n",
       "       14.78887263, 19.54923383, 22.77918514, 34.40821461, 40.82894995,\n",
       "       35.08308659, 42.59309677, 26.15757153, 32.28250931, 25.1505206 ,\n",
       "       43.23680437, 36.62246796, 14.445206  , 28.86336715, 30.78605117,\n",
       "       12.22867123, 55.70060203, 49.70143408, 57.59684276,  6.650204  ,\n",
       "       32.43842841, 40.01737614, 27.23218384, 40.37572802,  9.62958381,\n",
       "       11.98906389, 12.18630623, 37.61480791, 27.00677075, 51.28550918,\n",
       "       18.85895151, 30.17305471, 15.1547172 , 44.30078674, 28.11918916,\n",
       "       32.66755859, 39.21652499, 44.77088357, 20.12726947, 52.01635603,\n",
       "       25.21806238, 67.39827647, 48.53770687, 37.35548706,  5.15776661,\n",
       "       43.79068695, 34.49857449, 29.54444617, 39.03840862, 72.30622928,\n",
       "       18.20521464, 24.67048488, 38.19288302, 24.64829245, 37.2990692 ,\n",
       "       14.44758616])"
      ]
     },
     "execution_count": 215,
     "metadata": {},
     "output_type": "execute_result"
    }
   ],
   "source": [
    "y_pred"
   ]
  },
  {
   "cell_type": "code",
   "execution_count": 216,
   "metadata": {},
   "outputs": [
    {
     "data": {
      "text/plain": [
       "array([26.0621928 , 10.35455057, 79.29663476, 74.98740976,  9.69472204,\n",
       "       47.09810556, 58.99846132, 22.7182342 , 61.88736576, 52.1243856 ,\n",
       "       17.54026944, 48.15300384, 38.32797084, 17.20035777, 56.83350668,\n",
       "       55.25460664, 33.35684888, 34.6806428 , 52.61391356, 39.94134468,\n",
       "       61.45989064, 27.62730332, 32.90179472, 41.63745564, 17.54026944,\n",
       "       26.84819544, 66.89985628, 21.0634918 , 61.06688932, 66.9481196 ,\n",
       "       20.87043852, 48.79421652, 24.04616498, 47.81378165, 21.16001844,\n",
       "        6.94095489, 28.59946448, 26.31040416, 33.94772981, 25.72434956,\n",
       "       37.79707432, 35.17017076, 32.23989776, 37.81086384, 57.226508  ,\n",
       "       33.39821744, 30.14389072, 33.79811352, 35.07640202, 52.90831981,\n",
       "       40.93419012, 21.7529678 , 16.49916068, 42.34761592, 50.93848688,\n",
       "       64.0178466 , 52.20022796, 53.38612668, 64.30053176, 44.52045028,\n",
       "       37.42475728, 22.13907436, 62.93536928, 45.69846928, 14.63826496,\n",
       "       53.57917996, 33.71882378, 24.5798194 , 13.20208645, 18.91232668,\n",
       "        7.39807748, 24.84871504, 49.20100736, 25.57335432, 31.38150014,\n",
       "       23.34565736, 45.70536404,  6.8085755 , 27.3377234 , 39.58971192,\n",
       "       30.9574724 , 55.6407132 , 18.01600788, 33.08795324, 48.71837416,\n",
       "       36.80422888, 45.89841732, 46.68441996, 40.8686899 , 35.34253976,\n",
       "       65.69721315, 17.24379476,  9.4458212 , 33.94290348, 15.56836808,\n",
       "       40.26953526, 15.81657944, 41.54230795, 50.23522136, 29.97841648,\n",
       "       20.72564856, 27.42046052, 27.66177712, 29.72606826, 45.08483564,\n",
       "       42.13387836, 51.95891136, 15.60973664, 34.29453624, 53.52471136,\n",
       "        4.82771095, 41.36856   ,  9.73126426, 31.81242264, 41.05346947,\n",
       "       61.92183956, 37.42475728, 37.91704314, 32.72253096, 14.94094492,\n",
       "       44.0919902 , 26.92265885, 64.90037588, 29.21999288, 12.45883132,\n",
       "        7.99585317, 13.71367764, 13.66403537, 63.14221208, 37.91428524,\n",
       "       37.404073  , 55.06431126, 35.2322236 , 31.4201108 , 10.73031499,\n",
       "       47.96684532, 38.89334116, 38.80439876,  4.5650206 , 10.3938507 ,\n",
       "       29.58541516, 54.37828264, 22.50449664, 28.62980142, 17.3403214 ,\n",
       "       32.32952964, 41.66503468, 15.87173752, 44.86420332, 17.54026944,\n",
       "       11.98309288, 15.42357812, 30.38520732, 45.85429086, 41.68020315,\n",
       "       42.6440906 , 34.90127512, 25.44786968, 39.300132  , 27.923778  ,\n",
       "       52.5035974 , 37.81362174, 15.52631004, 30.57136584, 37.36339392,\n",
       "       14.58931216, 53.69225402, 57.02655996, 55.26012245,  6.46728488,\n",
       "       33.41890172, 41.1617172 , 31.44700036, 36.14922668, 14.39625888,\n",
       "       13.35515012,  8.53571288, 40.28509772, 32.03994972, 51.4349096 ,\n",
       "       21.48062478, 29.72331036, 14.2032056 , 37.6798634 , 24.13166   ,\n",
       "       23.84897484, 36.44570136, 44.284354  , 19.51906556, 59.49488404,\n",
       "       25.17966352, 69.29923276, 61.23236356, 32.922479  ,  6.28043688,\n",
       "       39.70002808, 33.39821744, 23.8358748 , 39.2656582 , 72.29845336,\n",
       "       18.12632404, 27.53077668, 33.76226077, 33.00521612, 33.7153764 ,\n",
       "       13.81709904])"
      ]
     },
     "execution_count": 216,
     "metadata": {},
     "output_type": "execute_result"
    }
   ],
   "source": [
    "y_test"
   ]
  },
  {
   "cell_type": "code",
   "execution_count": 177,
   "metadata": {},
   "outputs": [
    {
     "data": {
      "text/plain": [
       "<matplotlib.collections.PathCollection at 0x25fd7fdef98>"
      ]
     },
     "execution_count": 177,
     "metadata": {},
     "output_type": "execute_result"
    },
    {
     "data": {
      "image/png": "[encoded data removed]",
      "text/plain": [
       "<Figure size 432x288 with 1 Axes>"
      ]
     },
     "metadata": {
      "needs_background": "light"
     },
     "output_type": "display_data"
    }
   ],
   "source": [
    "plt.scatter(range(len(y_pred)),y_pred,c='r')\n",
    "plt.scatter(range(len(y_pred)),y_test,c='b')"
   ]
  },
  {
   "cell_type": "code",
   "execution_count": null,
   "metadata": {},
   "outputs": [],
   "source": []
  }
 ],
 "metadata": {
  "kernelspec": {
   "display_name": "Python 3",
   "language": "python",
   "name": "python3"
  },
  "language_info": {
   "codemirror_mode": {
    "name": "ipython",
    "version": 3
   },
   "file_extension": ".py",
   "mimetype": "text/x-python",
   "name": "python",
   "nbconvert_exporter": "python",
   "pygments_lexer": "ipython3",
   "version": "3.7.1"
  }
 },
 "nbformat": 4,
 "nbformat_minor": 2
}
