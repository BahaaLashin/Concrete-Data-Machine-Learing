{
 "cells": [
  {
   "cell_type": "code",
   "execution_count": 1,
   "metadata": {},
   "outputs": [],
   "source": [
    "\n",
    "import numpy as np\n",
    "import matplotlib.pyplot as plt\n",
    "import pandas as pd\n",
    "\n",
    "\n",
    "def outliers_with_IQR(data,key,kernal=1.5):\n",
    "    import statistics\n",
    "    med = int(len(data[key])/2)\n",
    "    sorted_data = sorted(data[key])\n",
    "    Q1 = statistics.median(sorted_data[:med])\n",
    "    Q2 = statistics.median(sorted_data[med:])\n",
    "    iqr = Q2 - Q1\n",
    "    outliers_range_1 = Q1 - iqr*kernal\n",
    "    outliers_range_2 = Q2 + iqr*kernal\n",
    "    data = data[data[key]>outliers_range_1]\n",
    "    data = data[data[key]<outliers_range_2]\n",
    "    return data"
   ]
  },
  {
   "cell_type": "code",
   "execution_count": 2,
   "metadata": {},
   "outputs": [],
   "source": [
    "def hypothesis(model):\n",
    "    try:\n",
    "        print(type(model).__name__,' Model coefficient ',model.coef_)\n",
    "        print(type(model).__name__,' Model collinearity ',model.intercept_)\n",
    "    except:\n",
    "        print(type(model).__name__,' Has no coefficient and collinearity')"
   ]
  },
  {
   "cell_type": "code",
   "execution_count": 3,
   "metadata": {},
   "outputs": [],
   "source": [
    "def score(y_pred,y_test):\n",
    "    from sklearn.metrics import mean_squared_error , r2_score\n",
    "    print('Mean Squared Error : ', mean_squared_error(y_pred,y_test))\n",
    "    print('R______Score Error : ', r2_score(y_pred,y_test))"
   ]
  },
  {
   "cell_type": "code",
   "execution_count": null,
   "metadata": {},
   "outputs": [],
   "source": [
    "def display(y_test,y_pred):\n",
    "    plt.figure(figsize=(10,8))\n",
    "    plt.title('PREDICTION VS ACTUAL ', fontsize=24 , fontstyle='italic')\n",
    "    plt.plot(range(len(y_test)), np.sort(y_test), '.')\n",
    "    plt.plot(range(len(y_test)),np.sort(y_pred),c='r')\n",
    "    plt.show()"
   ]
  }
 ],
 "metadata": {
  "kernelspec": {
   "display_name": "Python 3",
   "language": "python",
   "name": "python3"
  },
  "language_info": {
   "codemirror_mode": {
    "name": "ipython",
    "version": 3
   },
   "file_extension": ".py",
   "mimetype": "text/x-python",
   "name": "python",
   "nbconvert_exporter": "python",
   "pygments_lexer": "ipython3",
   "version": "3.7.1"
  }
 },
 "nbformat": 4,
 "nbformat_minor": 2
}
