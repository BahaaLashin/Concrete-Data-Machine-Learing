{
 "cells": [
  {
   "cell_type": "code",
   "execution_count": 15,
   "metadata": {},
   "outputs": [],
   "source": [
    "import pandas as pd\n",
    "import matplotlib.pyplot as plt\n",
    "import numpy as np\n",
    "# we add some important functions in main_functions \n",
    "import imp\n",
    "func_collect = imp.load_source('main_functions', 'E:\\Machine Learning Work\\Elictro Pi\\Concrete Data\\main_functions.py')\n",
    "from sklearn.tree import DecisionTreeRegressor"
   ]
  },
  {
   "cell_type": "code",
   "execution_count": 16,
   "metadata": {},
   "outputs": [],
   "source": [
    "dataSet = pd.read_excel('..\\\\Concrete_Data.xls')\n",
    "dataSet.columns = ['Cement','Slag','Ash','Water','Superplasticizer','Coarse','Fine','Age','strength']"
   ]
  },
  {
   "cell_type": "code",
   "execution_count": 17,
   "metadata": {},
   "outputs": [
    {
     "name": "stdout",
     "output_type": "stream",
     "text": [
      "<class 'pandas.core.frame.DataFrame'>\n",
      "RangeIndex: 1030 entries, 0 to 1029\n",
      "Data columns (total 9 columns):\n",
      " #   Column            Non-Null Count  Dtype  \n",
      "---  ------            --------------  -----  \n",
      " 0   Cement            1030 non-null   float64\n",
      " 1   Slag              1030 non-null   float64\n",
      " 2   Ash               1030 non-null   float64\n",
      " 3   Water             1030 non-null   float64\n",
      " 4   Superplasticizer  1030 non-null   float64\n",
      " 5   Coarse            1030 non-null   float64\n",
      " 6   Fine              1030 non-null   float64\n",
      " 7   Age               1030 non-null   int64  \n",
      " 8   strength          1030 non-null   float64\n",
      "dtypes: float64(8), int64(1)\n",
      "memory usage: 72.5 KB\n"
     ]
    }
   ],
   "source": [
    "dataSet.info()"
   ]
  },
  {
   "cell_type": "code",
   "execution_count": 18,
   "metadata": {},
   "outputs": [
    {
     "data": {
      "text/plain": [
       "Cement              0\n",
       "Slag                0\n",
       "Ash                 0\n",
       "Water               0\n",
       "Superplasticizer    0\n",
       "Coarse              0\n",
       "Fine                0\n",
       "Age                 0\n",
       "strength            0\n",
       "dtype: int64"
      ]
     },
     "execution_count": 18,
     "metadata": {},
     "output_type": "execute_result"
    }
   ],
   "source": [
    "dataSet.isnull().sum()"
   ]
  },
  {
   "cell_type": "code",
   "execution_count": 19,
   "metadata": {},
   "outputs": [
    {
     "data": {
      "text/html": [
       "<div>\n",
       "<style scoped>\n",
       "    .dataframe tbody tr th:only-of-type {\n",
       "        vertical-align: middle;\n",
       "    }\n",
       "\n",
       "    .dataframe tbody tr th {\n",
       "        vertical-align: top;\n",
       "    }\n",
       "\n",
       "    .dataframe thead th {\n",
       "        text-align: right;\n",
       "    }\n",
       "</style>\n",
       "<table border=\"1\" class=\"dataframe\">\n",
       "  <thead>\n",
       "    <tr style=\"text-align: right;\">\n",
       "      <th></th>\n",
       "      <th>Cement</th>\n",
       "      <th>Slag</th>\n",
       "      <th>Ash</th>\n",
       "      <th>Water</th>\n",
       "      <th>Superplasticizer</th>\n",
       "      <th>Coarse</th>\n",
       "      <th>Fine</th>\n",
       "      <th>Age</th>\n",
       "      <th>strength</th>\n",
       "    </tr>\n",
       "  </thead>\n",
       "  <tbody>\n",
       "    <tr>\n",
       "      <th>count</th>\n",
       "      <td>1030.000000</td>\n",
       "      <td>1030.000000</td>\n",
       "      <td>1030.000000</td>\n",
       "      <td>1030.000000</td>\n",
       "      <td>1030.000000</td>\n",
       "      <td>1030.000000</td>\n",
       "      <td>1030.000000</td>\n",
       "      <td>1030.000000</td>\n",
       "      <td>1030.000000</td>\n",
       "    </tr>\n",
       "    <tr>\n",
       "      <th>mean</th>\n",
       "      <td>281.165631</td>\n",
       "      <td>73.895485</td>\n",
       "      <td>54.187136</td>\n",
       "      <td>181.566359</td>\n",
       "      <td>6.203112</td>\n",
       "      <td>972.918592</td>\n",
       "      <td>773.578883</td>\n",
       "      <td>45.662136</td>\n",
       "      <td>35.817836</td>\n",
       "    </tr>\n",
       "    <tr>\n",
       "      <th>std</th>\n",
       "      <td>104.507142</td>\n",
       "      <td>86.279104</td>\n",
       "      <td>63.996469</td>\n",
       "      <td>21.355567</td>\n",
       "      <td>5.973492</td>\n",
       "      <td>77.753818</td>\n",
       "      <td>80.175427</td>\n",
       "      <td>63.169912</td>\n",
       "      <td>16.705679</td>\n",
       "    </tr>\n",
       "    <tr>\n",
       "      <th>min</th>\n",
       "      <td>102.000000</td>\n",
       "      <td>0.000000</td>\n",
       "      <td>0.000000</td>\n",
       "      <td>121.750000</td>\n",
       "      <td>0.000000</td>\n",
       "      <td>801.000000</td>\n",
       "      <td>594.000000</td>\n",
       "      <td>1.000000</td>\n",
       "      <td>2.331808</td>\n",
       "    </tr>\n",
       "    <tr>\n",
       "      <th>25%</th>\n",
       "      <td>192.375000</td>\n",
       "      <td>0.000000</td>\n",
       "      <td>0.000000</td>\n",
       "      <td>164.900000</td>\n",
       "      <td>0.000000</td>\n",
       "      <td>932.000000</td>\n",
       "      <td>730.950000</td>\n",
       "      <td>7.000000</td>\n",
       "      <td>23.707115</td>\n",
       "    </tr>\n",
       "    <tr>\n",
       "      <th>50%</th>\n",
       "      <td>272.900000</td>\n",
       "      <td>22.000000</td>\n",
       "      <td>0.000000</td>\n",
       "      <td>185.000000</td>\n",
       "      <td>6.350000</td>\n",
       "      <td>968.000000</td>\n",
       "      <td>779.510000</td>\n",
       "      <td>28.000000</td>\n",
       "      <td>34.442774</td>\n",
       "    </tr>\n",
       "    <tr>\n",
       "      <th>75%</th>\n",
       "      <td>350.000000</td>\n",
       "      <td>142.950000</td>\n",
       "      <td>118.270000</td>\n",
       "      <td>192.000000</td>\n",
       "      <td>10.160000</td>\n",
       "      <td>1029.400000</td>\n",
       "      <td>824.000000</td>\n",
       "      <td>56.000000</td>\n",
       "      <td>46.136287</td>\n",
       "    </tr>\n",
       "    <tr>\n",
       "      <th>max</th>\n",
       "      <td>540.000000</td>\n",
       "      <td>359.400000</td>\n",
       "      <td>200.100000</td>\n",
       "      <td>247.000000</td>\n",
       "      <td>32.200000</td>\n",
       "      <td>1145.000000</td>\n",
       "      <td>992.600000</td>\n",
       "      <td>365.000000</td>\n",
       "      <td>82.599225</td>\n",
       "    </tr>\n",
       "  </tbody>\n",
       "</table>\n",
       "</div>"
      ],
      "text/plain": [
       "            Cement         Slag          Ash        Water  Superplasticizer  \\\n",
       "count  1030.000000  1030.000000  1030.000000  1030.000000       1030.000000   \n",
       "mean    281.165631    73.895485    54.187136   181.566359          6.203112   \n",
       "std     104.507142    86.279104    63.996469    21.355567          5.973492   \n",
       "min     102.000000     0.000000     0.000000   121.750000          0.000000   \n",
       "25%     192.375000     0.000000     0.000000   164.900000          0.000000   \n",
       "50%     272.900000    22.000000     0.000000   185.000000          6.350000   \n",
       "75%     350.000000   142.950000   118.270000   192.000000         10.160000   \n",
       "max     540.000000   359.400000   200.100000   247.000000         32.200000   \n",
       "\n",
       "            Coarse         Fine          Age     strength  \n",
       "count  1030.000000  1030.000000  1030.000000  1030.000000  \n",
       "mean    972.918592   773.578883    45.662136    35.817836  \n",
       "std      77.753818    80.175427    63.169912    16.705679  \n",
       "min     801.000000   594.000000     1.000000     2.331808  \n",
       "25%     932.000000   730.950000     7.000000    23.707115  \n",
       "50%     968.000000   779.510000    28.000000    34.442774  \n",
       "75%    1029.400000   824.000000    56.000000    46.136287  \n",
       "max    1145.000000   992.600000   365.000000    82.599225  "
      ]
     },
     "execution_count": 19,
     "metadata": {},
     "output_type": "execute_result"
    }
   ],
   "source": [
    "dataSet.describe()"
   ]
  },
  {
   "cell_type": "code",
   "execution_count": 20,
   "metadata": {},
   "outputs": [
    {
     "data": {
      "text/html": [
       "<div>\n",
       "<style scoped>\n",
       "    .dataframe tbody tr th:only-of-type {\n",
       "        vertical-align: middle;\n",
       "    }\n",
       "\n",
       "    .dataframe tbody tr th {\n",
       "        vertical-align: top;\n",
       "    }\n",
       "\n",
       "    .dataframe thead th {\n",
       "        text-align: right;\n",
       "    }\n",
       "</style>\n",
       "<table border=\"1\" class=\"dataframe\">\n",
       "  <thead>\n",
       "    <tr style=\"text-align: right;\">\n",
       "      <th></th>\n",
       "      <th>Cement</th>\n",
       "      <th>Slag</th>\n",
       "      <th>Ash</th>\n",
       "      <th>Water</th>\n",
       "      <th>Superplasticizer</th>\n",
       "      <th>Coarse</th>\n",
       "      <th>Fine</th>\n",
       "      <th>Age</th>\n",
       "      <th>strength</th>\n",
       "    </tr>\n",
       "  </thead>\n",
       "  <tbody>\n",
       "    <tr>\n",
       "      <th>Cement</th>\n",
       "      <td>1.000000</td>\n",
       "      <td>-0.275193</td>\n",
       "      <td>-0.397475</td>\n",
       "      <td>-0.081544</td>\n",
       "      <td>0.092771</td>\n",
       "      <td>-0.109356</td>\n",
       "      <td>-0.222720</td>\n",
       "      <td>0.081947</td>\n",
       "      <td>0.497833</td>\n",
       "    </tr>\n",
       "    <tr>\n",
       "      <th>Slag</th>\n",
       "      <td>-0.275193</td>\n",
       "      <td>1.000000</td>\n",
       "      <td>-0.323569</td>\n",
       "      <td>0.107286</td>\n",
       "      <td>0.043376</td>\n",
       "      <td>-0.283998</td>\n",
       "      <td>-0.281593</td>\n",
       "      <td>-0.044246</td>\n",
       "      <td>0.134824</td>\n",
       "    </tr>\n",
       "    <tr>\n",
       "      <th>Ash</th>\n",
       "      <td>-0.397475</td>\n",
       "      <td>-0.323569</td>\n",
       "      <td>1.000000</td>\n",
       "      <td>-0.257044</td>\n",
       "      <td>0.377340</td>\n",
       "      <td>-0.009977</td>\n",
       "      <td>0.079076</td>\n",
       "      <td>-0.154370</td>\n",
       "      <td>-0.105753</td>\n",
       "    </tr>\n",
       "    <tr>\n",
       "      <th>Water</th>\n",
       "      <td>-0.081544</td>\n",
       "      <td>0.107286</td>\n",
       "      <td>-0.257044</td>\n",
       "      <td>1.000000</td>\n",
       "      <td>-0.657464</td>\n",
       "      <td>-0.182312</td>\n",
       "      <td>-0.450635</td>\n",
       "      <td>0.277604</td>\n",
       "      <td>-0.289613</td>\n",
       "    </tr>\n",
       "    <tr>\n",
       "      <th>Superplasticizer</th>\n",
       "      <td>0.092771</td>\n",
       "      <td>0.043376</td>\n",
       "      <td>0.377340</td>\n",
       "      <td>-0.657464</td>\n",
       "      <td>1.000000</td>\n",
       "      <td>-0.266303</td>\n",
       "      <td>0.222501</td>\n",
       "      <td>-0.192717</td>\n",
       "      <td>0.366102</td>\n",
       "    </tr>\n",
       "    <tr>\n",
       "      <th>Coarse</th>\n",
       "      <td>-0.109356</td>\n",
       "      <td>-0.283998</td>\n",
       "      <td>-0.009977</td>\n",
       "      <td>-0.182312</td>\n",
       "      <td>-0.266303</td>\n",
       "      <td>1.000000</td>\n",
       "      <td>-0.178506</td>\n",
       "      <td>-0.003016</td>\n",
       "      <td>-0.164928</td>\n",
       "    </tr>\n",
       "    <tr>\n",
       "      <th>Fine</th>\n",
       "      <td>-0.222720</td>\n",
       "      <td>-0.281593</td>\n",
       "      <td>0.079076</td>\n",
       "      <td>-0.450635</td>\n",
       "      <td>0.222501</td>\n",
       "      <td>-0.178506</td>\n",
       "      <td>1.000000</td>\n",
       "      <td>-0.156094</td>\n",
       "      <td>-0.167249</td>\n",
       "    </tr>\n",
       "    <tr>\n",
       "      <th>Age</th>\n",
       "      <td>0.081947</td>\n",
       "      <td>-0.044246</td>\n",
       "      <td>-0.154370</td>\n",
       "      <td>0.277604</td>\n",
       "      <td>-0.192717</td>\n",
       "      <td>-0.003016</td>\n",
       "      <td>-0.156094</td>\n",
       "      <td>1.000000</td>\n",
       "      <td>0.328877</td>\n",
       "    </tr>\n",
       "    <tr>\n",
       "      <th>strength</th>\n",
       "      <td>0.497833</td>\n",
       "      <td>0.134824</td>\n",
       "      <td>-0.105753</td>\n",
       "      <td>-0.289613</td>\n",
       "      <td>0.366102</td>\n",
       "      <td>-0.164928</td>\n",
       "      <td>-0.167249</td>\n",
       "      <td>0.328877</td>\n",
       "      <td>1.000000</td>\n",
       "    </tr>\n",
       "  </tbody>\n",
       "</table>\n",
       "</div>"
      ],
      "text/plain": [
       "                    Cement      Slag       Ash     Water  Superplasticizer  \\\n",
       "Cement            1.000000 -0.275193 -0.397475 -0.081544          0.092771   \n",
       "Slag             -0.275193  1.000000 -0.323569  0.107286          0.043376   \n",
       "Ash              -0.397475 -0.323569  1.000000 -0.257044          0.377340   \n",
       "Water            -0.081544  0.107286 -0.257044  1.000000         -0.657464   \n",
       "Superplasticizer  0.092771  0.043376  0.377340 -0.657464          1.000000   \n",
       "Coarse           -0.109356 -0.283998 -0.009977 -0.182312         -0.266303   \n",
       "Fine             -0.222720 -0.281593  0.079076 -0.450635          0.222501   \n",
       "Age               0.081947 -0.044246 -0.154370  0.277604         -0.192717   \n",
       "strength          0.497833  0.134824 -0.105753 -0.289613          0.366102   \n",
       "\n",
       "                    Coarse      Fine       Age  strength  \n",
       "Cement           -0.109356 -0.222720  0.081947  0.497833  \n",
       "Slag             -0.283998 -0.281593 -0.044246  0.134824  \n",
       "Ash              -0.009977  0.079076 -0.154370 -0.105753  \n",
       "Water            -0.182312 -0.450635  0.277604 -0.289613  \n",
       "Superplasticizer -0.266303  0.222501 -0.192717  0.366102  \n",
       "Coarse            1.000000 -0.178506 -0.003016 -0.164928  \n",
       "Fine             -0.178506  1.000000 -0.156094 -0.167249  \n",
       "Age              -0.003016 -0.156094  1.000000  0.328877  \n",
       "strength         -0.164928 -0.167249  0.328877  1.000000  "
      ]
     },
     "execution_count": 20,
     "metadata": {},
     "output_type": "execute_result"
    }
   ],
   "source": [
    "dataSet.corr()"
   ]
  },
  {
   "cell_type": "code",
   "execution_count": 21,
   "metadata": {},
   "outputs": [
    {
     "data": {
      "image/png": "[encoded data removed]",
      "text/plain": [
       "<Figure size 288x288 with 1 Axes>"
      ]
     },
     "metadata": {
      "needs_background": "light"
     },
     "output_type": "display_data"
    }
   ],
   "source": [
    "plt.matshow(dataSet.corr())\n",
    "plt.show()"
   ]
  },
  {
   "cell_type": "code",
   "execution_count": 22,
   "metadata": {},
   "outputs": [
    {
     "name": "stderr",
     "output_type": "stream",
     "text": [
      "C:\\Users\\Geek\\Anaconda3\\lib\\site-packages\\ipykernel_launcher.py:3: UserWarning: To output multiple subplots, the figure containing the passed axes is being cleared\n",
      "  This is separate from the ipykernel package so we can avoid doing imports until\n"
     ]
    },
    {
     "data": {
      "text/plain": [
       "array([[<matplotlib.axes._subplots.AxesSubplot object at 0x0000014922391080>,\n",
       "        <matplotlib.axes._subplots.AxesSubplot object at 0x000001492237A3C8>,\n",
       "        <matplotlib.axes._subplots.AxesSubplot object at 0x000001492233D940>],\n",
       "       [<matplotlib.axes._subplots.AxesSubplot object at 0x00000149229E5EB8>,\n",
       "        <matplotlib.axes._subplots.AxesSubplot object at 0x0000014922A15470>,\n",
       "        <matplotlib.axes._subplots.AxesSubplot object at 0x0000014922A3E9E8>],\n",
       "       [<matplotlib.axes._subplots.AxesSubplot object at 0x0000014922A67780>,\n",
       "        <matplotlib.axes._subplots.AxesSubplot object at 0x0000014922A8FD30>,\n",
       "        <matplotlib.axes._subplots.AxesSubplot object at 0x0000014922A8FD68>]],\n",
       "      dtype=object)"
      ]
     },
     "execution_count": 22,
     "metadata": {},
     "output_type": "execute_result"
    },
    {
     "data": {
      "image/png": "[encoded data removed]",
      "text/plain": [
       "<Figure size 1080x1440 with 9 Axes>"
      ]
     },
     "metadata": {
      "needs_background": "light"
     },
     "output_type": "display_data"
    }
   ],
   "source": [
    "fig = plt.figure(figsize = (15,20))\n",
    "ax = fig.gca()\n",
    "dataSet.hist(ax = ax)"
   ]
  },
  {
   "cell_type": "code",
   "execution_count": 23,
   "metadata": {},
   "outputs": [],
   "source": [
    "X = dataSet.iloc[:,[0,1,2,3,7]].values\n",
    "y = dataSet.iloc[:,-1].values"
   ]
  },
  {
   "cell_type": "code",
   "execution_count": 24,
   "metadata": {},
   "outputs": [],
   "source": [
    "from sklearn.model_selection import train_test_split\n",
    "X_train , X_test , y_train , y_test = train_test_split(X,y,test_size=.2,random_state=0)"
   ]
  },
  {
   "cell_type": "code",
   "execution_count": 25,
   "metadata": {},
   "outputs": [
    {
     "name": "stdout",
     "output_type": "stream",
     "text": [
      "Mean Squared Error :  95.90032435222305\n",
      "R______Score Error :  0.41982706753769317\n",
      "LinearRegression  Model coefficient  [ 0.10776708  0.09463575  0.07992727 -0.26316989  0.11500146]\n",
      "LinearRegression  Model collinearity  36.75233981478302\n"
     ]
    }
   ],
   "source": [
    "from sklearn.linear_model import LinearRegression\n",
    "model = LinearRegression()\n",
    "model.fit(X_train,y_train)\n",
    "y_pred = model.predict(X_test)\n",
    "func_collect.score(y_pred,y_test)\n",
    "func_collect.hypothesis(model)"
   ]
  },
  {
   "cell_type": "code",
   "execution_count": 26,
   "metadata": {},
   "outputs": [
    {
     "data": {
      "image/png": "[encoded data removed]",
      "text/plain": [
       "<Figure size 720x576 with 1 Axes>"
      ]
     },
     "metadata": {
      "needs_background": "light"
     },
     "output_type": "display_data"
    }
   ],
   "source": [
    "func_collect.display(y_pred,y_test)"
   ]
  }
 ],
 "metadata": {
  "kernelspec": {
   "display_name": "Python 3",
   "language": "python",
   "name": "python3"
  },
  "language_info": {
   "codemirror_mode": {
    "name": "ipython",
    "version": 3
   },
   "file_extension": ".py",
   "mimetype": "text/x-python",
   "name": "python",
   "nbconvert_exporter": "python",
   "pygments_lexer": "ipython3",
   "version": "3.7.1"
  }
 },
 "nbformat": 4,
 "nbformat_minor": 2
}
